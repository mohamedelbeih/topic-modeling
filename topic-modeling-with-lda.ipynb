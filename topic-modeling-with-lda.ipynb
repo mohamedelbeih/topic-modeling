{
 "cells": [
  {
   "cell_type": "code",
   "execution_count": 1,
   "metadata": {
    "_cell_guid": "b1076dfc-b9ad-4769-8c92-a6c4dae69d19",
    "_uuid": "8f2839f25d086af736a60e9eeb907d3b93b6e0e5",
    "execution": {
     "iopub.execute_input": "2021-02-21T16:22:58.158943Z",
     "iopub.status.busy": "2021-02-21T16:22:58.157911Z",
     "iopub.status.idle": "2021-02-21T16:22:58.160618Z",
     "shell.execute_reply": "2021-02-21T16:22:58.161162Z"
    },
    "papermill": {
     "duration": 0.019744,
     "end_time": "2021-02-21T16:22:58.161487",
     "exception": false,
     "start_time": "2021-02-21T16:22:58.141743",
     "status": "completed"
    },
    "tags": []
   },
   "outputs": [],
   "source": [
    "import numpy as np\n",
    "import pandas as pd"
   ]
  },
  {
   "cell_type": "code",
   "execution_count": 2,
   "metadata": {
    "execution": {
     "iopub.execute_input": "2021-02-21T16:22:58.185168Z",
     "iopub.status.busy": "2021-02-21T16:22:58.184171Z",
     "iopub.status.idle": "2021-02-21T16:22:58.248022Z",
     "shell.execute_reply": "2021-02-21T16:22:58.248558Z"
    },
    "papermill": {
     "duration": 0.077073,
     "end_time": "2021-02-21T16:22:58.248748",
     "exception": false,
     "start_time": "2021-02-21T16:22:58.171675",
     "status": "completed"
    },
    "tags": []
   },
   "outputs": [
    {
     "data": {
      "text/html": [
       "<div>\n",
       "<style scoped>\n",
       "    .dataframe tbody tr th:only-of-type {\n",
       "        vertical-align: middle;\n",
       "    }\n",
       "\n",
       "    .dataframe tbody tr th {\n",
       "        vertical-align: top;\n",
       "    }\n",
       "\n",
       "    .dataframe thead th {\n",
       "        text-align: right;\n",
       "    }\n",
       "</style>\n",
       "<table border=\"1\" class=\"dataframe\">\n",
       "  <thead>\n",
       "    <tr style=\"text-align: right;\">\n",
       "      <th></th>\n",
       "      <th>Tweet</th>\n",
       "    </tr>\n",
       "  </thead>\n",
       "  <tbody>\n",
       "    <tr>\n",
       "      <th>0</th>\n",
       "      <td>@MeltingIce Assuming max acceleration of 2 to ...</td>\n",
       "    </tr>\n",
       "    <tr>\n",
       "      <th>1</th>\n",
       "      <td>RT @SpaceX: BFR is capable of transporting sat...</td>\n",
       "    </tr>\n",
       "    <tr>\n",
       "      <th>2</th>\n",
       "      <td>@bigajm Yup :)</td>\n",
       "    </tr>\n",
       "    <tr>\n",
       "      <th>3</th>\n",
       "      <td>Part 2 https://t.co/8Fvu57muhM</td>\n",
       "    </tr>\n",
       "    <tr>\n",
       "      <th>4</th>\n",
       "      <td>Fly to most places on Earth in under 30 mins a...</td>\n",
       "    </tr>\n",
       "  </tbody>\n",
       "</table>\n",
       "</div>"
      ],
      "text/plain": [
       "                                               Tweet\n",
       "0  @MeltingIce Assuming max acceleration of 2 to ...\n",
       "1  RT @SpaceX: BFR is capable of transporting sat...\n",
       "2                                     @bigajm Yup :)\n",
       "3                     Part 2 https://t.co/8Fvu57muhM\n",
       "4  Fly to most places on Earth in under 30 mins a..."
      ]
     },
     "execution_count": 2,
     "metadata": {},
     "output_type": "execute_result"
    }
   ],
   "source": [
    "data = pd.read_csv('../input/elon-musks-tweets/data_elonmusk.csv',encoding='latin1')\n",
    "data = data[['Tweet']]\n",
    "data.head()\n"
   ]
  },
  {
   "cell_type": "code",
   "execution_count": 3,
   "metadata": {
    "execution": {
     "iopub.execute_input": "2021-02-21T16:22:58.275301Z",
     "iopub.status.busy": "2021-02-21T16:22:58.274546Z",
     "iopub.status.idle": "2021-02-21T16:22:59.970678Z",
     "shell.execute_reply": "2021-02-21T16:22:59.969958Z"
    },
    "papermill": {
     "duration": 1.711346,
     "end_time": "2021-02-21T16:22:59.970821",
     "exception": false,
     "start_time": "2021-02-21T16:22:58.259475",
     "status": "completed"
    },
    "tags": []
   },
   "outputs": [],
   "source": [
    "import re\n",
    "import nltk\n",
    "from nltk.corpus import stopwords\n",
    "from nltk.stem.wordnet import WordNetLemmatizer\n",
    "from nltk.tokenize import word_tokenize"
   ]
  },
  {
   "cell_type": "code",
   "execution_count": 4,
   "metadata": {
    "execution": {
     "iopub.execute_input": "2021-02-21T16:23:00.007568Z",
     "iopub.status.busy": "2021-02-21T16:23:00.006796Z",
     "iopub.status.idle": "2021-02-21T16:23:16.020051Z",
     "shell.execute_reply": "2021-02-21T16:23:16.018803Z"
    },
    "papermill": {
     "duration": 16.03877,
     "end_time": "2021-02-21T16:23:16.020277",
     "exception": false,
     "start_time": "2021-02-21T16:22:59.981507",
     "status": "completed"
    },
    "tags": []
   },
   "outputs": [],
   "source": [
    "corpus = []\n",
    "\n",
    "for i in range(0, data.shape[0]):\n",
    "    tweet = re.sub('[^a-zA-Z]', ' ', data['Tweet'][i])\n",
    "    tweet = tweet.lower()\n",
    "    tweet = word_tokenize(tweet)\n",
    "    # Reduce words to their root form\n",
    "    tweet = [WordNetLemmatizer().lemmatize(w) for w in tweet if not w in set(stopwords.words('english'))]\n",
    "    # Lemmatize verbs by specifying pos\n",
    "    tweet = [WordNetLemmatizer().lemmatize(w, pos='v') for w in tweet if not w in set(stopwords.words('english'))]\n",
    "    tweet = ' '.join(tweet)\n",
    "    corpus.append(tweet)"
   ]
  },
  {
   "cell_type": "code",
   "execution_count": 5,
   "metadata": {
    "execution": {
     "iopub.execute_input": "2021-02-21T16:23:16.053109Z",
     "iopub.status.busy": "2021-02-21T16:23:16.052444Z",
     "iopub.status.idle": "2021-02-21T16:23:16.057754Z",
     "shell.execute_reply": "2021-02-21T16:23:16.057003Z"
    },
    "papermill": {
     "duration": 0.026552,
     "end_time": "2021-02-21T16:23:16.057944",
     "exception": false,
     "start_time": "2021-02-21T16:23:16.031392",
     "status": "completed"
    },
    "tags": []
   },
   "outputs": [
    {
     "data": {
      "text/html": [
       "<div>\n",
       "<style scoped>\n",
       "    .dataframe tbody tr th:only-of-type {\n",
       "        vertical-align: middle;\n",
       "    }\n",
       "\n",
       "    .dataframe tbody tr th {\n",
       "        vertical-align: top;\n",
       "    }\n",
       "\n",
       "    .dataframe thead th {\n",
       "        text-align: right;\n",
       "    }\n",
       "</style>\n",
       "<table border=\"1\" class=\"dataframe\">\n",
       "  <thead>\n",
       "    <tr style=\"text-align: right;\">\n",
       "      <th></th>\n",
       "      <th>Tweet</th>\n",
       "      <th>Cleaned Tweets</th>\n",
       "    </tr>\n",
       "  </thead>\n",
       "  <tbody>\n",
       "    <tr>\n",
       "      <th>0</th>\n",
       "      <td>@MeltingIce Assuming max acceleration of 2 to ...</td>\n",
       "      <td>meltingice assume max acceleration g comfortab...</td>\n",
       "    </tr>\n",
       "    <tr>\n",
       "      <th>1</th>\n",
       "      <td>RT @SpaceX: BFR is capable of transporting sat...</td>\n",
       "      <td>rt spacex bfr capable transport satellite orbi...</td>\n",
       "    </tr>\n",
       "    <tr>\n",
       "      <th>2</th>\n",
       "      <td>@bigajm Yup :)</td>\n",
       "      <td>bigajm yup</td>\n",
       "    </tr>\n",
       "    <tr>\n",
       "      <th>3</th>\n",
       "      <td>Part 2 https://t.co/8Fvu57muhM</td>\n",
       "      <td>part http co fvu muhm</td>\n",
       "    </tr>\n",
       "    <tr>\n",
       "      <th>4</th>\n",
       "      <td>Fly to most places on Earth in under 30 mins a...</td>\n",
       "      <td>fly place earth min anywhere cost per seat htt...</td>\n",
       "    </tr>\n",
       "  </tbody>\n",
       "</table>\n",
       "</div>"
      ],
      "text/plain": [
       "                                               Tweet  \\\n",
       "0  @MeltingIce Assuming max acceleration of 2 to ...   \n",
       "1  RT @SpaceX: BFR is capable of transporting sat...   \n",
       "2                                     @bigajm Yup :)   \n",
       "3                     Part 2 https://t.co/8Fvu57muhM   \n",
       "4  Fly to most places on Earth in under 30 mins a...   \n",
       "\n",
       "                                      Cleaned Tweets  \n",
       "0  meltingice assume max acceleration g comfortab...  \n",
       "1  rt spacex bfr capable transport satellite orbi...  \n",
       "2                                         bigajm yup  \n",
       "3                              part http co fvu muhm  \n",
       "4  fly place earth min anywhere cost per seat htt...  "
      ]
     },
     "execution_count": 5,
     "metadata": {},
     "output_type": "execute_result"
    }
   ],
   "source": [
    "data['Cleaned Tweets']= corpus\n",
    "data.head()"
   ]
  },
  {
   "cell_type": "code",
   "execution_count": 6,
   "metadata": {
    "execution": {
     "iopub.execute_input": "2021-02-21T16:23:16.091807Z",
     "iopub.status.busy": "2021-02-21T16:23:16.090736Z",
     "iopub.status.idle": "2021-02-21T16:23:16.094976Z",
     "shell.execute_reply": "2021-02-21T16:23:16.094334Z"
    },
    "papermill": {
     "duration": 0.025716,
     "end_time": "2021-02-21T16:23:16.095157",
     "exception": false,
     "start_time": "2021-02-21T16:23:16.069441",
     "status": "completed"
    },
    "tags": []
   },
   "outputs": [
    {
     "data": {
      "text/html": [
       "<div>\n",
       "<style scoped>\n",
       "    .dataframe tbody tr th:only-of-type {\n",
       "        vertical-align: middle;\n",
       "    }\n",
       "\n",
       "    .dataframe tbody tr th {\n",
       "        vertical-align: top;\n",
       "    }\n",
       "\n",
       "    .dataframe thead th {\n",
       "        text-align: right;\n",
       "    }\n",
       "</style>\n",
       "<table border=\"1\" class=\"dataframe\">\n",
       "  <thead>\n",
       "    <tr style=\"text-align: right;\">\n",
       "      <th></th>\n",
       "      <th>Cleaned Tweets</th>\n",
       "    </tr>\n",
       "  </thead>\n",
       "  <tbody>\n",
       "    <tr>\n",
       "      <th>0</th>\n",
       "      <td>meltingice assume max acceleration g comfortab...</td>\n",
       "    </tr>\n",
       "    <tr>\n",
       "      <th>1</th>\n",
       "      <td>rt spacex bfr capable transport satellite orbi...</td>\n",
       "    </tr>\n",
       "    <tr>\n",
       "      <th>2</th>\n",
       "      <td>bigajm yup</td>\n",
       "    </tr>\n",
       "    <tr>\n",
       "      <th>3</th>\n",
       "      <td>part http co fvu muhm</td>\n",
       "    </tr>\n",
       "    <tr>\n",
       "      <th>4</th>\n",
       "      <td>fly place earth min anywhere cost per seat htt...</td>\n",
       "    </tr>\n",
       "  </tbody>\n",
       "</table>\n",
       "</div>"
      ],
      "text/plain": [
       "                                      Cleaned Tweets\n",
       "0  meltingice assume max acceleration g comfortab...\n",
       "1  rt spacex bfr capable transport satellite orbi...\n",
       "2                                         bigajm yup\n",
       "3                              part http co fvu muhm\n",
       "4  fly place earth min anywhere cost per seat htt..."
      ]
     },
     "execution_count": 6,
     "metadata": {},
     "output_type": "execute_result"
    }
   ],
   "source": [
    "data = data.drop(['Tweet'],axis=1)\n",
    "data.head()"
   ]
  },
  {
   "cell_type": "code",
   "execution_count": 7,
   "metadata": {
    "execution": {
     "iopub.execute_input": "2021-02-21T16:23:16.142841Z",
     "iopub.status.busy": "2021-02-21T16:23:16.137558Z",
     "iopub.status.idle": "2021-02-21T16:23:16.209955Z",
     "shell.execute_reply": "2021-02-21T16:23:16.209282Z"
    },
    "papermill": {
     "duration": 0.103137,
     "end_time": "2021-02-21T16:23:16.210107",
     "exception": false,
     "start_time": "2021-02-21T16:23:16.106970",
     "status": "completed"
    },
    "tags": []
   },
   "outputs": [],
   "source": [
    "from sklearn.feature_extraction.text import TfidfVectorizer\n",
    "\n",
    "tfIdfVectorizer=TfidfVectorizer(max_features=1000)\n",
    "tfIdf = tfIdfVectorizer.fit_transform(corpus)"
   ]
  },
  {
   "cell_type": "code",
   "execution_count": 8,
   "metadata": {
    "execution": {
     "iopub.execute_input": "2021-02-21T16:23:16.239729Z",
     "iopub.status.busy": "2021-02-21T16:23:16.238878Z",
     "iopub.status.idle": "2021-02-21T16:23:16.244928Z",
     "shell.execute_reply": "2021-02-21T16:23:16.245451Z"
    },
    "papermill": {
     "duration": 0.023547,
     "end_time": "2021-02-21T16:23:16.245633",
     "exception": false,
     "start_time": "2021-02-21T16:23:16.222086",
     "status": "completed"
    },
    "tags": []
   },
   "outputs": [
    {
     "name": "stdout",
     "output_type": "stream",
     "text": [
      "(3218, 1000)\n",
      "  (0, 148)\t0.16284148880681937\n",
      "  (0, 408)\t0.16043505292758106\n",
      "  (0, 484)\t0.3474697540107758\n",
      "  (0, 300)\t0.5062179655600014\n",
      "  (0, 4)\t0.5776220108847048\n",
      "  (0, 524)\t0.4869334628558575\n",
      "  (1, 547)\t0.29911899674811776\n",
      "  (1, 542)\t0.2656301669214715\n",
      "  (1, 160)\t0.2927309626103846\n",
      "  (1, 813)\t0.2524300982776499\n",
      "  (1, 799)\t0.2405704364533285\n",
      "  (1, 124)\t0.32540869416061585\n",
      "  (1, 188)\t0.3120031218593433\n",
      "  (1, 597)\t0.27314000439218766\n",
      "  (1, 738)\t0.2705093144348583\n",
      "  (1, 897)\t0.3294085538455777\n",
      "  (1, 119)\t0.34967028144973716\n",
      "  (1, 802)\t0.17648202084174694\n",
      "  (1, 730)\t0.14049630630811794\n",
      "  (2, 998)\t1.0\n",
      "  (3, 612)\t0.906379746379614\n",
      "  (3, 148)\t0.3009424503625335\n",
      "  (3, 408)\t0.29649518870062724\n",
      "  (4, 748)\t0.37673353904317436\n",
      "  (4, 617)\t0.36731064205525843\n",
      "  :\t:\n",
      "  (3214, 408)\t0.3576071782769709\n",
      "  (3215, 75)\t0.3595619360187262\n",
      "  (3215, 133)\t0.6422651466908904\n",
      "  (3215, 264)\t0.33677150505187164\n",
      "  (3215, 352)\t0.2171284259384925\n",
      "  (3215, 741)\t0.5041579266628073\n",
      "  (3215, 727)\t0.20850822652889206\n",
      "  (3216, 900)\t0.3918427061290589\n",
      "  (3216, 435)\t0.3918427061290589\n",
      "  (3216, 514)\t0.3515599288860974\n",
      "  (3216, 530)\t0.38207898415428637\n",
      "  (3216, 716)\t0.38841815219894943\n",
      "  (3216, 616)\t0.3135076222111472\n",
      "  (3216, 689)\t0.3210956886960007\n",
      "  (3216, 484)\t0.2666115566415866\n",
      "  (3217, 297)\t0.43022353975988414\n",
      "  (3217, 449)\t0.41650389799038945\n",
      "  (3217, 253)\t0.2820978610246989\n",
      "  (3217, 250)\t0.353199314553199\n",
      "  (3217, 52)\t0.40529413444876944\n",
      "  (3217, 352)\t0.2647565531810932\n",
      "  (3217, 544)\t0.22213945331506577\n",
      "  (3217, 861)\t0.2377775087867291\n",
      "  (3217, 730)\t0.17286232611036456\n",
      "  (3217, 484)\t0.2588018889741561\n"
     ]
    }
   ],
   "source": [
    "print(tfIdf.shape)\n",
    "print(tfIdf)"
   ]
  },
  {
   "cell_type": "code",
   "execution_count": 9,
   "metadata": {
    "execution": {
     "iopub.execute_input": "2021-02-21T16:23:16.276514Z",
     "iopub.status.busy": "2021-02-21T16:23:16.275812Z",
     "iopub.status.idle": "2021-02-21T16:23:17.764856Z",
     "shell.execute_reply": "2021-02-21T16:23:17.763983Z"
    },
    "papermill": {
     "duration": 1.506485,
     "end_time": "2021-02-21T16:23:17.765028",
     "exception": false,
     "start_time": "2021-02-21T16:23:16.258543",
     "status": "completed"
    },
    "tags": []
   },
   "outputs": [],
   "source": [
    "from sklearn.decomposition import LatentDirichletAllocation\n",
    "LDA_model=LatentDirichletAllocation(n_components=10,learning_method='online',\n",
    "                                    random_state=42,max_iter=1) \n",
    "lda_top=LDA_model.fit_transform(tfIdf)\n"
   ]
  },
  {
   "cell_type": "code",
   "execution_count": 10,
   "metadata": {
    "execution": {
     "iopub.execute_input": "2021-02-21T16:23:17.796826Z",
     "iopub.status.busy": "2021-02-21T16:23:17.795908Z",
     "iopub.status.idle": "2021-02-21T16:23:17.799327Z",
     "shell.execute_reply": "2021-02-21T16:23:17.799811Z"
    },
    "papermill": {
     "duration": 0.021885,
     "end_time": "2021-02-21T16:23:17.799983",
     "exception": false,
     "start_time": "2021-02-21T16:23:17.778098",
     "status": "completed"
    },
    "tags": []
   },
   "outputs": [
    {
     "name": "stdout",
     "output_type": "stream",
     "text": [
      "(3218, 10)\n",
      "[[0.03085005 0.03086529 0.03084997 ... 0.72228122 0.03085247 0.03084988]\n",
      " [0.02208678 0.02208708 0.02208749 ... 0.11035964 0.14496409 0.02208678]\n",
      " [0.05       0.05       0.05       ... 0.05       0.05       0.05      ]\n",
      " ...\n",
      " [0.03059609 0.03059723 0.03059608 ... 0.03059801 0.5115445  0.24367715]\n",
      " [0.02626797 0.02627319 0.23657458 ... 0.2417908  0.3377445  0.0262677 ]\n",
      " [0.02473022 0.02473162 0.02473011 ... 0.40912179 0.39302788 0.0247302 ]]\n"
     ]
    }
   ],
   "source": [
    "print(lda_top.shape)\n",
    "print(lda_top)"
   ]
  },
  {
   "cell_type": "code",
   "execution_count": 11,
   "metadata": {
    "execution": {
     "iopub.execute_input": "2021-02-21T16:23:17.832813Z",
     "iopub.status.busy": "2021-02-21T16:23:17.832147Z",
     "iopub.status.idle": "2021-02-21T16:23:17.839885Z",
     "shell.execute_reply": "2021-02-21T16:23:17.838700Z"
    },
    "papermill": {
     "duration": 0.027121,
     "end_time": "2021-02-21T16:23:17.840116",
     "exception": false,
     "start_time": "2021-02-21T16:23:17.812995",
     "status": "completed"
    },
    "tags": []
   },
   "outputs": [
    {
     "name": "stdout",
     "output_type": "stream",
     "text": [
      "Tweet 0: \n",
      "Topic  0 :  3.0850051612788354 %\n",
      "Topic  1 :  3.086529176801379 %\n",
      "Topic  2 :  3.084996695078226 %\n",
      "Topic  3 :  3.0850792638059414 %\n",
      "Topic  4 :  3.0898532865211936 %\n",
      "Topic  5 :  3.085142935823786 %\n",
      "Topic  6 :  3.085036584530033 %\n",
      "Topic  7 :  72.22812175350876 %\n",
      "Topic  8 :  3.085247398010872 %\n",
      "Topic  9 :  3.084987744640991 %\n"
     ]
    }
   ],
   "source": [
    "print(\"Tweet 0: \")\n",
    "for i,topic in enumerate(lda_top[0]):\n",
    "  print(\"Topic \",i,\": \",topic*100,\"%\")"
   ]
  },
  {
   "cell_type": "markdown",
   "metadata": {
    "papermill": {
     "duration": 0.01438,
     "end_time": "2021-02-21T16:23:17.869191",
     "exception": false,
     "start_time": "2021-02-21T16:23:17.854811",
     "status": "completed"
    },
    "tags": []
   },
   "source": [
    "so it's clear that topic 7 is the dominant topic in the first tweet"
   ]
  },
  {
   "cell_type": "code",
   "execution_count": 12,
   "metadata": {
    "execution": {
     "iopub.execute_input": "2021-02-21T16:23:17.903437Z",
     "iopub.status.busy": "2021-02-21T16:23:17.902431Z",
     "iopub.status.idle": "2021-02-21T16:23:17.907617Z",
     "shell.execute_reply": "2021-02-21T16:23:17.907045Z"
    },
    "papermill": {
     "duration": 0.024812,
     "end_time": "2021-02-21T16:23:17.907778",
     "exception": false,
     "start_time": "2021-02-21T16:23:17.882966",
     "status": "completed"
    },
    "tags": []
   },
   "outputs": [
    {
     "name": "stdout",
     "output_type": "stream",
     "text": [
      "[[0.13604461 0.13507133 0.13342439 ... 0.13871575 0.13071592 3.70264297]\n",
      " [0.13843829 0.13762983 1.01048858 ... 0.13453394 0.13576778 0.31360089]\n",
      " [0.13122908 0.13400842 0.13687301 ... 0.139168   0.131691   0.13351702]\n",
      " ...\n",
      " [6.36484877 0.67131585 3.07161612 ... 0.17045915 0.13906939 0.16321635]\n",
      " [0.21313864 2.34862899 2.44643931 ... 0.1648857  0.13279309 1.42044855]\n",
      " [0.1305678  0.13111178 0.13944794 ... 0.1637143  0.12800788 0.13399043]]\n",
      "(10, 1000)\n"
     ]
    }
   ],
   "source": [
    "print(LDA_model.components_)\n",
    "print(LDA_model.components_.shape) "
   ]
  },
  {
   "cell_type": "code",
   "execution_count": 13,
   "metadata": {
    "execution": {
     "iopub.execute_input": "2021-02-21T16:23:17.952587Z",
     "iopub.status.busy": "2021-02-21T16:23:17.951909Z",
     "iopub.status.idle": "2021-02-21T16:23:17.955137Z",
     "shell.execute_reply": "2021-02-21T16:23:17.954609Z"
    },
    "papermill": {
     "duration": 0.032488,
     "end_time": "2021-02-21T16:23:17.955281",
     "exception": false,
     "start_time": "2021-02-21T16:23:17.922793",
     "status": "completed"
    },
    "tags": []
   },
   "outputs": [],
   "source": [
    "vocab = tfIdfVectorizer.get_feature_names()\n",
    "\n",
    "columns = []\n",
    "words = []\n",
    "\n",
    "for i, comp in enumerate(LDA_model.components_):\n",
    "    vocab_comp = zip(vocab, comp)\n",
    "    sorted_words = sorted(vocab_comp, key= lambda x:x[1], reverse=True)\n",
    "    sorted_words = dict(sorted_words)\n",
    "    topic = \"Topic \"+str(i)\n",
    "    columns.append(topic)\n",
    "    words.append(sorted_words.keys())\n"
   ]
  },
  {
   "cell_type": "code",
   "execution_count": 14,
   "metadata": {
    "execution": {
     "iopub.execute_input": "2021-02-21T16:23:18.031733Z",
     "iopub.status.busy": "2021-02-21T16:23:18.015910Z",
     "iopub.status.idle": "2021-02-21T16:23:18.115804Z",
     "shell.execute_reply": "2021-02-21T16:23:18.115066Z"
    },
    "papermill": {
     "duration": 0.145819,
     "end_time": "2021-02-21T16:23:18.115966",
     "exception": false,
     "start_time": "2021-02-21T16:23:17.970147",
     "status": "completed"
    },
    "tags": []
   },
   "outputs": [
    {
     "data": {
      "text/html": [
       "<div>\n",
       "<style scoped>\n",
       "    .dataframe tbody tr th:only-of-type {\n",
       "        vertical-align: middle;\n",
       "    }\n",
       "\n",
       "    .dataframe tbody tr th {\n",
       "        vertical-align: top;\n",
       "    }\n",
       "\n",
       "    .dataframe thead th {\n",
       "        text-align: right;\n",
       "    }\n",
       "</style>\n",
       "<table border=\"1\" class=\"dataframe\">\n",
       "  <thead>\n",
       "    <tr style=\"text-align: right;\">\n",
       "      <th></th>\n",
       "      <th>Topic 0</th>\n",
       "      <th>Topic 1</th>\n",
       "      <th>Topic 2</th>\n",
       "      <th>Topic 3</th>\n",
       "      <th>Topic 4</th>\n",
       "      <th>Topic 5</th>\n",
       "      <th>Topic 6</th>\n",
       "      <th>Topic 7</th>\n",
       "      <th>Topic 8</th>\n",
       "      <th>Topic 9</th>\n",
       "    </tr>\n",
       "  </thead>\n",
       "  <tbody>\n",
       "    <tr>\n",
       "      <th>0</th>\n",
       "      <td>plus</td>\n",
       "      <td>co</td>\n",
       "      <td>trip</td>\n",
       "      <td>short</td>\n",
       "      <td>great</td>\n",
       "      <td>thank</td>\n",
       "      <td>yes</td>\n",
       "      <td>http</td>\n",
       "      <td>http</td>\n",
       "      <td>break</td>\n",
       "    </tr>\n",
       "    <tr>\n",
       "      <th>1</th>\n",
       "      <td>show</td>\n",
       "      <td>talk</td>\n",
       "      <td>definitely</td>\n",
       "      <td>co</td>\n",
       "      <td>little</td>\n",
       "      <td>elonmusk</td>\n",
       "      <td>space</td>\n",
       "      <td>co</td>\n",
       "      <td>co</td>\n",
       "      <td>picture</td>\n",
       "    </tr>\n",
       "    <tr>\n",
       "      <th>2</th>\n",
       "      <td>data</td>\n",
       "      <td>http</td>\n",
       "      <td>possible</td>\n",
       "      <td>http</td>\n",
       "      <td>news</td>\n",
       "      <td>article</td>\n",
       "      <td>station</td>\n",
       "      <td>exactly</td>\n",
       "      <td>rt</td>\n",
       "      <td>call</td>\n",
       "    </tr>\n",
       "    <tr>\n",
       "      <th>3</th>\n",
       "      <td>bill</td>\n",
       "      <td>super</td>\n",
       "      <td>many</td>\n",
       "      <td>lot</td>\n",
       "      <td>co</td>\n",
       "      <td>http</td>\n",
       "      <td>mission</td>\n",
       "      <td>model</td>\n",
       "      <td>launch</td>\n",
       "      <td>day</td>\n",
       "    </tr>\n",
       "    <tr>\n",
       "      <th>4</th>\n",
       "      <td>latest</td>\n",
       "      <td>life</td>\n",
       "      <td>need</td>\n",
       "      <td>spacex</td>\n",
       "      <td>move</td>\n",
       "      <td>co</td>\n",
       "      <td>dragon</td>\n",
       "      <td>drive</td>\n",
       "      <td>rocket</td>\n",
       "      <td>sale</td>\n",
       "    </tr>\n",
       "    <tr>\n",
       "      <th>5</th>\n",
       "      <td>teslaroadtrip</td>\n",
       "      <td>get</td>\n",
       "      <td>problem</td>\n",
       "      <td>work</td>\n",
       "      <td>http</td>\n",
       "      <td>actually</td>\n",
       "      <td>nasa</td>\n",
       "      <td>tesla</td>\n",
       "      <td>spacex</td>\n",
       "      <td>europe</td>\n",
       "    </tr>\n",
       "    <tr>\n",
       "      <th>6</th>\n",
       "      <td>almost</td>\n",
       "      <td>one</td>\n",
       "      <td>could</td>\n",
       "      <td>team</td>\n",
       "      <td>newscientist</td>\n",
       "      <td>charge</td>\n",
       "      <td>course</td>\n",
       "      <td>rt</td>\n",
       "      <td>land</td>\n",
       "      <td>tax</td>\n",
       "    </tr>\n",
       "    <tr>\n",
       "      <th>7</th>\n",
       "      <td>wish</td>\n",
       "      <td>good</td>\n",
       "      <td>road</td>\n",
       "      <td>appreciate</td>\n",
       "      <td>youtube</td>\n",
       "      <td>tesla</td>\n",
       "      <td>video</td>\n",
       "      <td>like</td>\n",
       "      <td>falcon</td>\n",
       "      <td>judge</td>\n",
       "    </tr>\n",
       "    <tr>\n",
       "      <th>8</th>\n",
       "      <td>believe</td>\n",
       "      <td>climate</td>\n",
       "      <td>piece</td>\n",
       "      <td>well</td>\n",
       "      <td>million</td>\n",
       "      <td>name</td>\n",
       "      <td>true</td>\n",
       "      <td>car</td>\n",
       "      <td>teslamotors</td>\n",
       "      <td>bbc</td>\n",
       "    </tr>\n",
       "    <tr>\n",
       "      <th>9</th>\n",
       "      <td>giant</td>\n",
       "      <td>yeah</td>\n",
       "      <td>confirm</td>\n",
       "      <td>hyperloop</td>\n",
       "      <td>article</td>\n",
       "      <td>rt</td>\n",
       "      <td>head</td>\n",
       "      <td>teslamotors</td>\n",
       "      <td>tesla</td>\n",
       "      <td>vehicle</td>\n",
       "    </tr>\n",
       "    <tr>\n",
       "      <th>10</th>\n",
       "      <td>seat</td>\n",
       "      <td>point</td>\n",
       "      <td>learn</td>\n",
       "      <td>announcement</td>\n",
       "      <td>end</td>\n",
       "      <td>always</td>\n",
       "      <td>et</td>\n",
       "      <td>year</td>\n",
       "      <td>good</td>\n",
       "      <td>check</td>\n",
       "    </tr>\n",
       "    <tr>\n",
       "      <th>11</th>\n",
       "      <td>log</td>\n",
       "      <td>change</td>\n",
       "      <td>mt</td>\n",
       "      <td>much</td>\n",
       "      <td>min</td>\n",
       "      <td>best</td>\n",
       "      <td>probably</td>\n",
       "      <td>mile</td>\n",
       "      <td>power</td>\n",
       "      <td>second</td>\n",
       "    </tr>\n",
       "    <tr>\n",
       "      <th>12</th>\n",
       "      <td>ready</td>\n",
       "      <td>something</td>\n",
       "      <td>grind</td>\n",
       "      <td>agree</td>\n",
       "      <td>mass</td>\n",
       "      <td>access</td>\n",
       "      <td>orbit</td>\n",
       "      <td>come</td>\n",
       "      <td>say</td>\n",
       "      <td>yet</td>\n",
       "    </tr>\n",
       "    <tr>\n",
       "      <th>13</th>\n",
       "      <td>pretty</td>\n",
       "      <td>love</td>\n",
       "      <td>door</td>\n",
       "      <td>long</td>\n",
       "      <td>though</td>\n",
       "      <td>supercharger</td>\n",
       "      <td>post</td>\n",
       "      <td>dealer</td>\n",
       "      <td>flight</td>\n",
       "      <td>comment</td>\n",
       "    </tr>\n",
       "    <tr>\n",
       "      <th>14</th>\n",
       "      <td>old</td>\n",
       "      <td>best</td>\n",
       "      <td>actually</td>\n",
       "      <td>texas</td>\n",
       "      <td>deny</td>\n",
       "      <td>engineer</td>\n",
       "      <td>yup</td>\n",
       "      <td>give</td>\n",
       "      <td>go</td>\n",
       "      <td>deal</td>\n",
       "    </tr>\n",
       "    <tr>\n",
       "      <th>15</th>\n",
       "      <td>zero</td>\n",
       "      <td>google</td>\n",
       "      <td>orbit</td>\n",
       "      <td>pod</td>\n",
       "      <td>think</td>\n",
       "      <td>allow</td>\n",
       "      <td>bonnienorman</td>\n",
       "      <td>look</td>\n",
       "      <td>model</td>\n",
       "      <td>sea</td>\n",
       "    </tr>\n",
       "    <tr>\n",
       "      <th>16</th>\n",
       "      <td>japan</td>\n",
       "      <td>energy</td>\n",
       "      <td>lift</td>\n",
       "      <td>tesla</td>\n",
       "      <td>risk</td>\n",
       "      <td>pack</td>\n",
       "      <td>spacex</td>\n",
       "      <td>right</td>\n",
       "      <td>cool</td>\n",
       "      <td>date</td>\n",
       "    </tr>\n",
       "    <tr>\n",
       "      <th>17</th>\n",
       "      <td>reddit</td>\n",
       "      <td>happy</td>\n",
       "      <td>boeing</td>\n",
       "      <td>speed</td>\n",
       "      <td>state</td>\n",
       "      <td>report</td>\n",
       "      <td>http</td>\n",
       "      <td>awesome</td>\n",
       "      <td>test</td>\n",
       "      <td>please</td>\n",
       "    </tr>\n",
       "    <tr>\n",
       "      <th>18</th>\n",
       "      <td>anywhere</td>\n",
       "      <td>ai</td>\n",
       "      <td>contract</td>\n",
       "      <td>km</td>\n",
       "      <td>carbon</td>\n",
       "      <td>use</td>\n",
       "      <td>spacecraft</td>\n",
       "      <td>owner</td>\n",
       "      <td>solar</td>\n",
       "      <td>block</td>\n",
       "    </tr>\n",
       "    <tr>\n",
       "      <th>19</th>\n",
       "      <td>base</td>\n",
       "      <td>hopefully</td>\n",
       "      <td>link</td>\n",
       "      <td>vid</td>\n",
       "      <td>battery</td>\n",
       "      <td>teslamotors</td>\n",
       "      <td>ship</td>\n",
       "      <td>new</td>\n",
       "      <td>would</td>\n",
       "      <td>yes</td>\n",
       "    </tr>\n",
       "  </tbody>\n",
       "</table>\n",
       "</div>"
      ],
      "text/plain": [
       "          Topic 0    Topic 1     Topic 2       Topic 3       Topic 4  \\\n",
       "0            plus         co        trip         short         great   \n",
       "1            show       talk  definitely            co        little   \n",
       "2            data       http    possible          http          news   \n",
       "3            bill      super        many           lot            co   \n",
       "4          latest       life        need        spacex          move   \n",
       "5   teslaroadtrip        get     problem          work          http   \n",
       "6          almost        one       could          team  newscientist   \n",
       "7            wish       good        road    appreciate       youtube   \n",
       "8         believe    climate       piece          well       million   \n",
       "9           giant       yeah     confirm     hyperloop       article   \n",
       "10           seat      point       learn  announcement           end   \n",
       "11            log     change          mt          much           min   \n",
       "12          ready  something       grind         agree          mass   \n",
       "13         pretty       love        door          long        though   \n",
       "14            old       best    actually         texas          deny   \n",
       "15           zero     google       orbit           pod         think   \n",
       "16          japan     energy        lift         tesla          risk   \n",
       "17         reddit      happy      boeing         speed         state   \n",
       "18       anywhere         ai    contract            km        carbon   \n",
       "19           base  hopefully        link           vid       battery   \n",
       "\n",
       "         Topic 5       Topic 6      Topic 7      Topic 8  Topic 9  \n",
       "0          thank           yes         http         http    break  \n",
       "1       elonmusk         space           co           co  picture  \n",
       "2        article       station      exactly           rt     call  \n",
       "3           http       mission        model       launch      day  \n",
       "4             co        dragon        drive       rocket     sale  \n",
       "5       actually          nasa        tesla       spacex   europe  \n",
       "6         charge        course           rt         land      tax  \n",
       "7          tesla         video         like       falcon    judge  \n",
       "8           name          true          car  teslamotors      bbc  \n",
       "9             rt          head  teslamotors        tesla  vehicle  \n",
       "10        always            et         year         good    check  \n",
       "11          best      probably         mile        power   second  \n",
       "12        access         orbit         come          say      yet  \n",
       "13  supercharger          post       dealer       flight  comment  \n",
       "14      engineer           yup         give           go     deal  \n",
       "15         allow  bonnienorman         look        model      sea  \n",
       "16          pack        spacex        right         cool     date  \n",
       "17        report          http      awesome         test   please  \n",
       "18           use    spacecraft        owner        solar    block  \n",
       "19   teslamotors          ship          new        would      yes  "
      ]
     },
     "execution_count": 14,
     "metadata": {},
     "output_type": "execute_result"
    }
   ],
   "source": [
    "topics_relevant_words = pd.DataFrame(words).transpose()\n",
    "topics_relevant_words.columns = columns\n",
    "topics_relevant_words.head(20)\n"
   ]
  }
 ],
 "metadata": {
  "kernelspec": {
   "display_name": "Python 3",
   "language": "python",
   "name": "python3"
  },
  "language_info": {
   "codemirror_mode": {
    "name": "ipython",
    "version": 3
   },
   "file_extension": ".py",
   "mimetype": "text/x-python",
   "name": "python",
   "nbconvert_exporter": "python",
   "pygments_lexer": "ipython3",
   "version": "3.7.9"
  },
  "papermill": {
   "default_parameters": {},
   "duration": 27.067729,
   "end_time": "2021-02-21T16:23:19.043913",
   "environment_variables": {},
   "exception": null,
   "input_path": "__notebook__.ipynb",
   "output_path": "__notebook__.ipynb",
   "parameters": {},
   "start_time": "2021-02-21T16:22:51.976184",
   "version": "2.2.2"
  }
 },
 "nbformat": 4,
 "nbformat_minor": 4
}
